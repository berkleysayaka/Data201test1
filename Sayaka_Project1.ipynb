{
  "nbformat": 4,
  "nbformat_minor": 0,
  "metadata": {
    "colab": {
      "provenance": [],
      "mount_file_id": "17kqryuhmeXce9FNc3qFnP5oWg8rNZ-QF",
      "authorship_tag": "ABX9TyPTAfZxYOR6sYCcWGavAA6a",
      "include_colab_link": true
    },
    "kernelspec": {
      "name": "python3",
      "display_name": "Python 3"
    },
    "language_info": {
      "name": "python"
    }
  },
  "cells": [
    {
      "cell_type": "markdown",
      "metadata": {
        "id": "view-in-github",
        "colab_type": "text"
      },
      "source": [
        "<a href=\"https://colab.research.google.com/github/berkleysayaka/Data201test1/blob/main/Sayaka_Project1.ipynb\" target=\"_parent\"><img src=\"https://colab.research.google.com/assets/colab-badge.svg\" alt=\"Open In Colab\"/></a>"
      ]
    },
    {
      "cell_type": "markdown",
      "source": [
        "Import Libraries"
      ],
      "metadata": {
        "id": "AVnMP_vIm6QX"
      }
    },
    {
      "cell_type": "code",
      "execution_count": 1,
      "metadata": {
        "id": "D7KwZr4m8SiH"
      },
      "outputs": [],
      "source": [
        " import csv\n",
        "import pprint"
      ]
    },
    {
      "cell_type": "code",
      "source": [
        " from google.colab import files\n",
        "uploaded = files.upload()"
      ],
      "metadata": {
        "colab": {
          "base_uri": "https://localhost:8080/",
          "height": 73
        },
        "id": "BGnZOED2QHNj",
        "outputId": "65d492ce-b2a4-44e7-cc7e-7e38e937d1bd"
      },
      "execution_count": 9,
      "outputs": [
        {
          "output_type": "display_data",
          "data": {
            "text/plain": [
              "<IPython.core.display.HTML object>"
            ],
            "text/html": [
              "\n",
              "     <input type=\"file\" id=\"files-47a9a7c6-f7d1-417a-ba06-4b37602a9eb3\" name=\"files[]\" multiple disabled\n",
              "        style=\"border:none\" />\n",
              "     <output id=\"result-47a9a7c6-f7d1-417a-ba06-4b37602a9eb3\">\n",
              "      Upload widget is only available when the cell has been executed in the\n",
              "      current browser session. Please rerun this cell to enable.\n",
              "      </output>\n",
              "      <script>// Copyright 2017 Google LLC\n",
              "//\n",
              "// Licensed under the Apache License, Version 2.0 (the \"License\");\n",
              "// you may not use this file except in compliance with the License.\n",
              "// You may obtain a copy of the License at\n",
              "//\n",
              "//      http://www.apache.org/licenses/LICENSE-2.0\n",
              "//\n",
              "// Unless required by applicable law or agreed to in writing, software\n",
              "// distributed under the License is distributed on an \"AS IS\" BASIS,\n",
              "// WITHOUT WARRANTIES OR CONDITIONS OF ANY KIND, either express or implied.\n",
              "// See the License for the specific language governing permissions and\n",
              "// limitations under the License.\n",
              "\n",
              "/**\n",
              " * @fileoverview Helpers for google.colab Python module.\n",
              " */\n",
              "(function(scope) {\n",
              "function span(text, styleAttributes = {}) {\n",
              "  const element = document.createElement('span');\n",
              "  element.textContent = text;\n",
              "  for (const key of Object.keys(styleAttributes)) {\n",
              "    element.style[key] = styleAttributes[key];\n",
              "  }\n",
              "  return element;\n",
              "}\n",
              "\n",
              "// Max number of bytes which will be uploaded at a time.\n",
              "const MAX_PAYLOAD_SIZE = 100 * 1024;\n",
              "\n",
              "function _uploadFiles(inputId, outputId) {\n",
              "  const steps = uploadFilesStep(inputId, outputId);\n",
              "  const outputElement = document.getElementById(outputId);\n",
              "  // Cache steps on the outputElement to make it available for the next call\n",
              "  // to uploadFilesContinue from Python.\n",
              "  outputElement.steps = steps;\n",
              "\n",
              "  return _uploadFilesContinue(outputId);\n",
              "}\n",
              "\n",
              "// This is roughly an async generator (not supported in the browser yet),\n",
              "// where there are multiple asynchronous steps and the Python side is going\n",
              "// to poll for completion of each step.\n",
              "// This uses a Promise to block the python side on completion of each step,\n",
              "// then passes the result of the previous step as the input to the next step.\n",
              "function _uploadFilesContinue(outputId) {\n",
              "  const outputElement = document.getElementById(outputId);\n",
              "  const steps = outputElement.steps;\n",
              "\n",
              "  const next = steps.next(outputElement.lastPromiseValue);\n",
              "  return Promise.resolve(next.value.promise).then((value) => {\n",
              "    // Cache the last promise value to make it available to the next\n",
              "    // step of the generator.\n",
              "    outputElement.lastPromiseValue = value;\n",
              "    return next.value.response;\n",
              "  });\n",
              "}\n",
              "\n",
              "/**\n",
              " * Generator function which is called between each async step of the upload\n",
              " * process.\n",
              " * @param {string} inputId Element ID of the input file picker element.\n",
              " * @param {string} outputId Element ID of the output display.\n",
              " * @return {!Iterable<!Object>} Iterable of next steps.\n",
              " */\n",
              "function* uploadFilesStep(inputId, outputId) {\n",
              "  const inputElement = document.getElementById(inputId);\n",
              "  inputElement.disabled = false;\n",
              "\n",
              "  const outputElement = document.getElementById(outputId);\n",
              "  outputElement.innerHTML = '';\n",
              "\n",
              "  const pickedPromise = new Promise((resolve) => {\n",
              "    inputElement.addEventListener('change', (e) => {\n",
              "      resolve(e.target.files);\n",
              "    });\n",
              "  });\n",
              "\n",
              "  const cancel = document.createElement('button');\n",
              "  inputElement.parentElement.appendChild(cancel);\n",
              "  cancel.textContent = 'Cancel upload';\n",
              "  const cancelPromise = new Promise((resolve) => {\n",
              "    cancel.onclick = () => {\n",
              "      resolve(null);\n",
              "    };\n",
              "  });\n",
              "\n",
              "  // Wait for the user to pick the files.\n",
              "  const files = yield {\n",
              "    promise: Promise.race([pickedPromise, cancelPromise]),\n",
              "    response: {\n",
              "      action: 'starting',\n",
              "    }\n",
              "  };\n",
              "\n",
              "  cancel.remove();\n",
              "\n",
              "  // Disable the input element since further picks are not allowed.\n",
              "  inputElement.disabled = true;\n",
              "\n",
              "  if (!files) {\n",
              "    return {\n",
              "      response: {\n",
              "        action: 'complete',\n",
              "      }\n",
              "    };\n",
              "  }\n",
              "\n",
              "  for (const file of files) {\n",
              "    const li = document.createElement('li');\n",
              "    li.append(span(file.name, {fontWeight: 'bold'}));\n",
              "    li.append(span(\n",
              "        `(${file.type || 'n/a'}) - ${file.size} bytes, ` +\n",
              "        `last modified: ${\n",
              "            file.lastModifiedDate ? file.lastModifiedDate.toLocaleDateString() :\n",
              "                                    'n/a'} - `));\n",
              "    const percent = span('0% done');\n",
              "    li.appendChild(percent);\n",
              "\n",
              "    outputElement.appendChild(li);\n",
              "\n",
              "    const fileDataPromise = new Promise((resolve) => {\n",
              "      const reader = new FileReader();\n",
              "      reader.onload = (e) => {\n",
              "        resolve(e.target.result);\n",
              "      };\n",
              "      reader.readAsArrayBuffer(file);\n",
              "    });\n",
              "    // Wait for the data to be ready.\n",
              "    let fileData = yield {\n",
              "      promise: fileDataPromise,\n",
              "      response: {\n",
              "        action: 'continue',\n",
              "      }\n",
              "    };\n",
              "\n",
              "    // Use a chunked sending to avoid message size limits. See b/62115660.\n",
              "    let position = 0;\n",
              "    do {\n",
              "      const length = Math.min(fileData.byteLength - position, MAX_PAYLOAD_SIZE);\n",
              "      const chunk = new Uint8Array(fileData, position, length);\n",
              "      position += length;\n",
              "\n",
              "      const base64 = btoa(String.fromCharCode.apply(null, chunk));\n",
              "      yield {\n",
              "        response: {\n",
              "          action: 'append',\n",
              "          file: file.name,\n",
              "          data: base64,\n",
              "        },\n",
              "      };\n",
              "\n",
              "      let percentDone = fileData.byteLength === 0 ?\n",
              "          100 :\n",
              "          Math.round((position / fileData.byteLength) * 100);\n",
              "      percent.textContent = `${percentDone}% done`;\n",
              "\n",
              "    } while (position < fileData.byteLength);\n",
              "  }\n",
              "\n",
              "  // All done.\n",
              "  yield {\n",
              "    response: {\n",
              "      action: 'complete',\n",
              "    }\n",
              "  };\n",
              "}\n",
              "\n",
              "scope.google = scope.google || {};\n",
              "scope.google.colab = scope.google.colab || {};\n",
              "scope.google.colab._files = {\n",
              "  _uploadFiles,\n",
              "  _uploadFilesContinue,\n",
              "};\n",
              "})(self);\n",
              "</script> "
            ]
          },
          "metadata": {}
        },
        {
          "output_type": "stream",
          "name": "stdout",
          "text": [
            "Saving Project 1 Housing.csv to Project 1 Housing.csv\n"
          ]
        }
      ]
    },
    {
      "cell_type": "code",
      "source": [
        "import io\n",
        "import pandas as pd\n",
        "\n",
        "housing_df = pd.read_csv(io.BytesIO(uploaded[\"Project 1 Housing.csv\"]))"
      ],
      "metadata": {
        "id": "dXjorm__mPe3"
      },
      "execution_count": 12,
      "outputs": []
    },
    {
      "cell_type": "code",
      "source": [
        "import numpy as np\n",
        "import pandas as pd\n",
        "pd.options.display.float_format = '{:.2f}'.format\n",
        "import matplotlib.pyplot as plt\n",
        "import seaborn as sns\n"
      ],
      "metadata": {
        "id": "s2XoQci2oMwz"
      },
      "execution_count": 19,
      "outputs": []
    },
    {
      "cell_type": "markdown",
      "source": [],
      "metadata": {
        "id": "Nba1sLEGlqdo"
      }
    },
    {
      "cell_type": "markdown",
      "source": [
        "Member: Nancy, Chisom, Jerome, Justin, Sayaka\n",
        "\n",
        "This dataset was downloaded from Kaggle.com. The data were obtained by Klenn Dungaran by scraping data from the https://www.lamudi.com.ph/ website. Lamudi is an international firm operating in the Philippines, Indonesia, and Mexico. Lamudi maintains an online platform containing real estate data on a wide variety of properties. The platform enables buyers, sellers, real estate professionals, and members of the public to connect with each other and post and find properties of interest.\n",
        "\n",
        "The dataset was posted on 20 March 2024. The dataset consists of 1,500 property records. Information on the site indicates the dataset will be updated annually. It is not possible to determine whether the data are for all areas in the Philippines or only certain geographical areas. The dataset contains records on single-family homes, townhomes, and (it appears) vacant lots. The type of property is not coded; the properties are described with a freeform textual description.\n",
        "\n",
        "There are nine variables in the dataset: description, location, price (in Philippine pesos), number of bedrooms, number of bathrooms, floor area, lot area, latitude, and longitude. Forty-nine records had missing price data; 37 records had missing floor area. It is assumed the records with missing floor area were lots with no houses. To clean the data, the observations with missing data were deleted, leaving 1,416 records for analysis. All 1,416 records had floor area, so presumably they are all dwelling units, either single-family homes or townhomes.\n",
        "\n",
        "The following research questions guided our analysis:\n",
        "\n",
        "· what is the range of prices of residential dwelling unit? (histogram)\n",
        "\n",
        "· what is the relationship between floor area and price? (scatterplot)\n",
        "\n",
        "· what is the correlation between the number of bedrooms and the number of bathrooms? (correlation)\n",
        "\n",
        "· what is the median price of the residential units? (median)\n",
        "\n",
        "The research questions will be answered by examining a subset of the file drawn randomly from the larger dataset."
      ],
      "metadata": {
        "id": "ccmJLmKplxGV"
      }
    },
    {
      "cell_type": "markdown",
      "source": [],
      "metadata": {
        "id": "3rKErj1imnFD"
      }
    },
    {
      "cell_type": "markdown",
      "source": [],
      "metadata": {
        "id": "ROzuJ1mDm5Ll"
      }
    },
    {
      "cell_type": "markdown",
      "source": [
        "# New Section"
      ],
      "metadata": {
        "id": "DeHcZe2YP41e"
      }
    },
    {
      "cell_type": "markdown",
      "source": [
        "Review Data"
      ],
      "metadata": {
        "id": "K9mB4ra5nOFw"
      }
    },
    {
      "cell_type": "markdown",
      "source": [
        "Clean dataset by changing headers to lower case and removing NAs, blanks"
      ],
      "metadata": {
        "id": "JKfQBQxTnbgP"
      }
    },
    {
      "cell_type": "code",
      "source": [
        "drop_na_housing_df = housing_df.dropna()\n",
        "drop_na_housing_df.columns = drop_na_housing_df.columns.str.lower()\n",
        "drop_na_housing_df.head()"
      ],
      "metadata": {
        "colab": {
          "base_uri": "https://localhost:8080/",
          "height": 414
        },
        "id": "OikIruVbASCn",
        "outputId": "9b1d9d54-c3a3-4888-994f-7a6e5839d840"
      },
      "execution_count": 13,
      "outputs": [
        {
          "output_type": "execute_result",
          "data": {
            "text/plain": [
              "                                         description  \\\n",
              "0  Preselling 2-Storey Townhouses in Village East...   \n",
              "1  Affordable House & Lot with Complete Amenities...   \n",
              "4  Futura Homes Zamboanga | Amber 2BR Townhouse E...   \n",
              "7  5BR 2-Storey House and Lot for Sale in Subic, ...   \n",
              "9  3BR 3-Storey Townhouse for Sale near Alabang i...   \n",
              "\n",
              "                                     location       price  bedrooms  \\\n",
              "0                       Santo Domingo, Cainta   9500000.0       4.0   \n",
              "1                    San Vicente, Santa Maria   4400000.0       3.0   \n",
              "4             Zambowood Rd. Boalan, Zamboanga   3275000.0       2.0   \n",
              "7                   Aningway Sacatihan, Subic   8428000.0       5.0   \n",
              "9  Km. 19 West Service Rd. Cupang, Muntinlupa  28650000.0       3.0   \n",
              "\n",
              "   bathrooms  floor_area  land_area   latitude   longitude  \n",
              "0        3.0      144.00      136.0  14.582341  121.118044  \n",
              "1        2.0       63.20       80.0  14.807715  121.002402  \n",
              "4        1.0       40.32       78.4   6.948389  122.114889  \n",
              "7        3.0      142.00      121.0  14.913178  120.228242  \n",
              "9        3.0      219.30       90.0  14.427001  121.045278  "
            ],
            "text/html": [
              "\n",
              "  <div id=\"df-0cecabe3-d469-41ff-a5f2-8709ab2a22b1\" class=\"colab-df-container\">\n",
              "    <div>\n",
              "<style scoped>\n",
              "    .dataframe tbody tr th:only-of-type {\n",
              "        vertical-align: middle;\n",
              "    }\n",
              "\n",
              "    .dataframe tbody tr th {\n",
              "        vertical-align: top;\n",
              "    }\n",
              "\n",
              "    .dataframe thead th {\n",
              "        text-align: right;\n",
              "    }\n",
              "</style>\n",
              "<table border=\"1\" class=\"dataframe\">\n",
              "  <thead>\n",
              "    <tr style=\"text-align: right;\">\n",
              "      <th></th>\n",
              "      <th>description</th>\n",
              "      <th>location</th>\n",
              "      <th>price</th>\n",
              "      <th>bedrooms</th>\n",
              "      <th>bathrooms</th>\n",
              "      <th>floor_area</th>\n",
              "      <th>land_area</th>\n",
              "      <th>latitude</th>\n",
              "      <th>longitude</th>\n",
              "    </tr>\n",
              "  </thead>\n",
              "  <tbody>\n",
              "    <tr>\n",
              "      <th>0</th>\n",
              "      <td>Preselling 2-Storey Townhouses in Village East...</td>\n",
              "      <td>Santo Domingo, Cainta</td>\n",
              "      <td>9500000.0</td>\n",
              "      <td>4.0</td>\n",
              "      <td>3.0</td>\n",
              "      <td>144.00</td>\n",
              "      <td>136.0</td>\n",
              "      <td>14.582341</td>\n",
              "      <td>121.118044</td>\n",
              "    </tr>\n",
              "    <tr>\n",
              "      <th>1</th>\n",
              "      <td>Affordable House &amp; Lot with Complete Amenities...</td>\n",
              "      <td>San Vicente, Santa Maria</td>\n",
              "      <td>4400000.0</td>\n",
              "      <td>3.0</td>\n",
              "      <td>2.0</td>\n",
              "      <td>63.20</td>\n",
              "      <td>80.0</td>\n",
              "      <td>14.807715</td>\n",
              "      <td>121.002402</td>\n",
              "    </tr>\n",
              "    <tr>\n",
              "      <th>4</th>\n",
              "      <td>Futura Homes Zamboanga | Amber 2BR Townhouse E...</td>\n",
              "      <td>Zambowood Rd. Boalan, Zamboanga</td>\n",
              "      <td>3275000.0</td>\n",
              "      <td>2.0</td>\n",
              "      <td>1.0</td>\n",
              "      <td>40.32</td>\n",
              "      <td>78.4</td>\n",
              "      <td>6.948389</td>\n",
              "      <td>122.114889</td>\n",
              "    </tr>\n",
              "    <tr>\n",
              "      <th>7</th>\n",
              "      <td>5BR 2-Storey House and Lot for Sale in Subic, ...</td>\n",
              "      <td>Aningway Sacatihan, Subic</td>\n",
              "      <td>8428000.0</td>\n",
              "      <td>5.0</td>\n",
              "      <td>3.0</td>\n",
              "      <td>142.00</td>\n",
              "      <td>121.0</td>\n",
              "      <td>14.913178</td>\n",
              "      <td>120.228242</td>\n",
              "    </tr>\n",
              "    <tr>\n",
              "      <th>9</th>\n",
              "      <td>3BR 3-Storey Townhouse for Sale near Alabang i...</td>\n",
              "      <td>Km. 19 West Service Rd. Cupang, Muntinlupa</td>\n",
              "      <td>28650000.0</td>\n",
              "      <td>3.0</td>\n",
              "      <td>3.0</td>\n",
              "      <td>219.30</td>\n",
              "      <td>90.0</td>\n",
              "      <td>14.427001</td>\n",
              "      <td>121.045278</td>\n",
              "    </tr>\n",
              "  </tbody>\n",
              "</table>\n",
              "</div>\n",
              "    <div class=\"colab-df-buttons\">\n",
              "\n",
              "  <div class=\"colab-df-container\">\n",
              "    <button class=\"colab-df-convert\" onclick=\"convertToInteractive('df-0cecabe3-d469-41ff-a5f2-8709ab2a22b1')\"\n",
              "            title=\"Convert this dataframe to an interactive table.\"\n",
              "            style=\"display:none;\">\n",
              "\n",
              "  <svg xmlns=\"http://www.w3.org/2000/svg\" height=\"24px\" viewBox=\"0 -960 960 960\">\n",
              "    <path d=\"M120-120v-720h720v720H120Zm60-500h600v-160H180v160Zm220 220h160v-160H400v160Zm0 220h160v-160H400v160ZM180-400h160v-160H180v160Zm440 0h160v-160H620v160ZM180-180h160v-160H180v160Zm440 0h160v-160H620v160Z\"/>\n",
              "  </svg>\n",
              "    </button>\n",
              "\n",
              "  <style>\n",
              "    .colab-df-container {\n",
              "      display:flex;\n",
              "      gap: 12px;\n",
              "    }\n",
              "\n",
              "    .colab-df-convert {\n",
              "      background-color: #E8F0FE;\n",
              "      border: none;\n",
              "      border-radius: 50%;\n",
              "      cursor: pointer;\n",
              "      display: none;\n",
              "      fill: #1967D2;\n",
              "      height: 32px;\n",
              "      padding: 0 0 0 0;\n",
              "      width: 32px;\n",
              "    }\n",
              "\n",
              "    .colab-df-convert:hover {\n",
              "      background-color: #E2EBFA;\n",
              "      box-shadow: 0px 1px 2px rgba(60, 64, 67, 0.3), 0px 1px 3px 1px rgba(60, 64, 67, 0.15);\n",
              "      fill: #174EA6;\n",
              "    }\n",
              "\n",
              "    .colab-df-buttons div {\n",
              "      margin-bottom: 4px;\n",
              "    }\n",
              "\n",
              "    [theme=dark] .colab-df-convert {\n",
              "      background-color: #3B4455;\n",
              "      fill: #D2E3FC;\n",
              "    }\n",
              "\n",
              "    [theme=dark] .colab-df-convert:hover {\n",
              "      background-color: #434B5C;\n",
              "      box-shadow: 0px 1px 3px 1px rgba(0, 0, 0, 0.15);\n",
              "      filter: drop-shadow(0px 1px 2px rgba(0, 0, 0, 0.3));\n",
              "      fill: #FFFFFF;\n",
              "    }\n",
              "  </style>\n",
              "\n",
              "    <script>\n",
              "      const buttonEl =\n",
              "        document.querySelector('#df-0cecabe3-d469-41ff-a5f2-8709ab2a22b1 button.colab-df-convert');\n",
              "      buttonEl.style.display =\n",
              "        google.colab.kernel.accessAllowed ? 'block' : 'none';\n",
              "\n",
              "      async function convertToInteractive(key) {\n",
              "        const element = document.querySelector('#df-0cecabe3-d469-41ff-a5f2-8709ab2a22b1');\n",
              "        const dataTable =\n",
              "          await google.colab.kernel.invokeFunction('convertToInteractive',\n",
              "                                                    [key], {});\n",
              "        if (!dataTable) return;\n",
              "\n",
              "        const docLinkHtml = 'Like what you see? Visit the ' +\n",
              "          '<a target=\"_blank\" href=https://colab.research.google.com/notebooks/data_table.ipynb>data table notebook</a>'\n",
              "          + ' to learn more about interactive tables.';\n",
              "        element.innerHTML = '';\n",
              "        dataTable['output_type'] = 'display_data';\n",
              "        await google.colab.output.renderOutput(dataTable, element);\n",
              "        const docLink = document.createElement('div');\n",
              "        docLink.innerHTML = docLinkHtml;\n",
              "        element.appendChild(docLink);\n",
              "      }\n",
              "    </script>\n",
              "  </div>\n",
              "\n",
              "\n",
              "<div id=\"df-7519924d-3e92-4eb6-88c3-c599ab138ac2\">\n",
              "  <button class=\"colab-df-quickchart\" onclick=\"quickchart('df-7519924d-3e92-4eb6-88c3-c599ab138ac2')\"\n",
              "            title=\"Suggest charts\"\n",
              "            style=\"display:none;\">\n",
              "\n",
              "<svg xmlns=\"http://www.w3.org/2000/svg\" height=\"24px\"viewBox=\"0 0 24 24\"\n",
              "     width=\"24px\">\n",
              "    <g>\n",
              "        <path d=\"M19 3H5c-1.1 0-2 .9-2 2v14c0 1.1.9 2 2 2h14c1.1 0 2-.9 2-2V5c0-1.1-.9-2-2-2zM9 17H7v-7h2v7zm4 0h-2V7h2v10zm4 0h-2v-4h2v4z\"/>\n",
              "    </g>\n",
              "</svg>\n",
              "  </button>\n",
              "\n",
              "<style>\n",
              "  .colab-df-quickchart {\n",
              "      --bg-color: #E8F0FE;\n",
              "      --fill-color: #1967D2;\n",
              "      --hover-bg-color: #E2EBFA;\n",
              "      --hover-fill-color: #174EA6;\n",
              "      --disabled-fill-color: #AAA;\n",
              "      --disabled-bg-color: #DDD;\n",
              "  }\n",
              "\n",
              "  [theme=dark] .colab-df-quickchart {\n",
              "      --bg-color: #3B4455;\n",
              "      --fill-color: #D2E3FC;\n",
              "      --hover-bg-color: #434B5C;\n",
              "      --hover-fill-color: #FFFFFF;\n",
              "      --disabled-bg-color: #3B4455;\n",
              "      --disabled-fill-color: #666;\n",
              "  }\n",
              "\n",
              "  .colab-df-quickchart {\n",
              "    background-color: var(--bg-color);\n",
              "    border: none;\n",
              "    border-radius: 50%;\n",
              "    cursor: pointer;\n",
              "    display: none;\n",
              "    fill: var(--fill-color);\n",
              "    height: 32px;\n",
              "    padding: 0;\n",
              "    width: 32px;\n",
              "  }\n",
              "\n",
              "  .colab-df-quickchart:hover {\n",
              "    background-color: var(--hover-bg-color);\n",
              "    box-shadow: 0 1px 2px rgba(60, 64, 67, 0.3), 0 1px 3px 1px rgba(60, 64, 67, 0.15);\n",
              "    fill: var(--button-hover-fill-color);\n",
              "  }\n",
              "\n",
              "  .colab-df-quickchart-complete:disabled,\n",
              "  .colab-df-quickchart-complete:disabled:hover {\n",
              "    background-color: var(--disabled-bg-color);\n",
              "    fill: var(--disabled-fill-color);\n",
              "    box-shadow: none;\n",
              "  }\n",
              "\n",
              "  .colab-df-spinner {\n",
              "    border: 2px solid var(--fill-color);\n",
              "    border-color: transparent;\n",
              "    border-bottom-color: var(--fill-color);\n",
              "    animation:\n",
              "      spin 1s steps(1) infinite;\n",
              "  }\n",
              "\n",
              "  @keyframes spin {\n",
              "    0% {\n",
              "      border-color: transparent;\n",
              "      border-bottom-color: var(--fill-color);\n",
              "      border-left-color: var(--fill-color);\n",
              "    }\n",
              "    20% {\n",
              "      border-color: transparent;\n",
              "      border-left-color: var(--fill-color);\n",
              "      border-top-color: var(--fill-color);\n",
              "    }\n",
              "    30% {\n",
              "      border-color: transparent;\n",
              "      border-left-color: var(--fill-color);\n",
              "      border-top-color: var(--fill-color);\n",
              "      border-right-color: var(--fill-color);\n",
              "    }\n",
              "    40% {\n",
              "      border-color: transparent;\n",
              "      border-right-color: var(--fill-color);\n",
              "      border-top-color: var(--fill-color);\n",
              "    }\n",
              "    60% {\n",
              "      border-color: transparent;\n",
              "      border-right-color: var(--fill-color);\n",
              "    }\n",
              "    80% {\n",
              "      border-color: transparent;\n",
              "      border-right-color: var(--fill-color);\n",
              "      border-bottom-color: var(--fill-color);\n",
              "    }\n",
              "    90% {\n",
              "      border-color: transparent;\n",
              "      border-bottom-color: var(--fill-color);\n",
              "    }\n",
              "  }\n",
              "</style>\n",
              "\n",
              "  <script>\n",
              "    async function quickchart(key) {\n",
              "      const quickchartButtonEl =\n",
              "        document.querySelector('#' + key + ' button');\n",
              "      quickchartButtonEl.disabled = true;  // To prevent multiple clicks.\n",
              "      quickchartButtonEl.classList.add('colab-df-spinner');\n",
              "      try {\n",
              "        const charts = await google.colab.kernel.invokeFunction(\n",
              "            'suggestCharts', [key], {});\n",
              "      } catch (error) {\n",
              "        console.error('Error during call to suggestCharts:', error);\n",
              "      }\n",
              "      quickchartButtonEl.classList.remove('colab-df-spinner');\n",
              "      quickchartButtonEl.classList.add('colab-df-quickchart-complete');\n",
              "    }\n",
              "    (() => {\n",
              "      let quickchartButtonEl =\n",
              "        document.querySelector('#df-7519924d-3e92-4eb6-88c3-c599ab138ac2 button');\n",
              "      quickchartButtonEl.style.display =\n",
              "        google.colab.kernel.accessAllowed ? 'block' : 'none';\n",
              "    })();\n",
              "  </script>\n",
              "</div>\n",
              "\n",
              "    </div>\n",
              "  </div>\n"
            ],
            "application/vnd.google.colaboratory.intrinsic+json": {
              "type": "dataframe",
              "variable_name": "drop_na_housing_df",
              "summary": "{\n  \"name\": \"drop_na_housing_df\",\n  \"rows\": 1055,\n  \"fields\": [\n    {\n      \"column\": \"description\",\n      \"properties\": {\n        \"dtype\": \"string\",\n        \"num_unique_values\": 960,\n        \"samples\": [\n          \"2  Bedroom Home with Additions, Strong Water, Near Amenities in SN Mateo Rizal\",\n          \"For Sale: Brand New Modern Luxury 5 BR Home with Pool in Ayala Alabang\",\n          \"Brand New Tagaytay Midlands House Overlooking Taal\"\n        ],\n        \"semantic_type\": \"\",\n        \"description\": \"\"\n      }\n    },\n    {\n      \"column\": \"location\",\n      \"properties\": {\n        \"dtype\": \"category\",\n        \"num_unique_values\": 378,\n        \"samples\": [\n          \"Manuyo Dos, Las Pinas\",\n          \"Santo Nino, San Mateo\",\n          \"1 Tandang Sora, Quezon City\"\n        ],\n        \"semantic_type\": \"\",\n        \"description\": \"\"\n      }\n    },\n    {\n      \"column\": \"price\",\n      \"properties\": {\n        \"dtype\": \"number\",\n        \"std\": 87078973.52176975,\n        \"min\": 869000.0,\n        \"max\": 1200000000.0,\n        \"num_unique_values\": 617,\n        \"samples\": [\n          5282600.0,\n          7257800.0,\n          28776000.0\n        ],\n        \"semantic_type\": \"\",\n        \"description\": \"\"\n      }\n    },\n    {\n      \"column\": \"bedrooms\",\n      \"properties\": {\n        \"dtype\": \"number\",\n        \"std\": 1.2653404127915664,\n        \"min\": 1.0,\n        \"max\": 13.0,\n        \"num_unique_values\": 12,\n        \"samples\": [\n          10.0,\n          13.0,\n          4.0\n        ],\n        \"semantic_type\": \"\",\n        \"description\": \"\"\n      }\n    },\n    {\n      \"column\": \"bathrooms\",\n      \"properties\": {\n        \"dtype\": \"number\",\n        \"std\": 1.9270710638089916,\n        \"min\": 1.0,\n        \"max\": 43.0,\n        \"num_unique_values\": 16,\n        \"samples\": [\n          3.0,\n          2.0,\n          6.0\n        ],\n        \"semantic_type\": \"\",\n        \"description\": \"\"\n      }\n    },\n    {\n      \"column\": \"floor_area\",\n      \"properties\": {\n        \"dtype\": \"number\",\n        \"std\": 230.84297288821315,\n        \"min\": 26.0,\n        \"max\": 1600.0,\n        \"num_unique_values\": 307,\n        \"samples\": [\n          128.0,\n          260.0,\n          135.0\n        ],\n        \"semantic_type\": \"\",\n        \"description\": \"\"\n      }\n    },\n    {\n      \"column\": \"land_area\",\n      \"properties\": {\n        \"dtype\": \"number\",\n        \"std\": 573.624437849946,\n        \"min\": 27.0,\n        \"max\": 10000.0,\n        \"num_unique_values\": 325,\n        \"samples\": [\n          899.0,\n          375.0,\n          3267.0\n        ],\n        \"semantic_type\": \"\",\n        \"description\": \"\"\n      }\n    },\n    {\n      \"column\": \"latitude\",\n      \"properties\": {\n        \"dtype\": \"number\",\n        \"std\": 1.7353737370536948,\n        \"min\": 6.1280792,\n        \"max\": 16.66243945,\n        \"num_unique_values\": 379,\n        \"samples\": [\n          14.4236141,\n          9.6352488,\n          14.6292389\n        ],\n        \"semantic_type\": \"\",\n        \"description\": \"\"\n      }\n    },\n    {\n      \"column\": \"longitude\",\n      \"properties\": {\n        \"dtype\": \"number\",\n        \"std\": 0.9866264915818638,\n        \"min\": 120.2282421,\n        \"max\": 125.7396788,\n        \"num_unique_values\": 379,\n        \"samples\": [\n          121.0298739,\n          123.8487402,\n          121.0458642\n        ],\n        \"semantic_type\": \"\",\n        \"description\": \"\"\n      }\n    }\n  ]\n}"
            }
          },
          "metadata": {},
          "execution_count": 13
        }
      ]
    },
    {
      "cell_type": "markdown",
      "source": [],
      "metadata": {
        "id": "CCjieIoym4YL"
      }
    },
    {
      "cell_type": "markdown",
      "source": [
        "Descriptive Statistics for Prices in Pesos"
      ],
      "metadata": {
        "id": "orCKnNVJnjzk"
      }
    },
    {
      "cell_type": "code",
      "source": [
        "drop_na_housing_df['price'].describe()"
      ],
      "metadata": {
        "colab": {
          "base_uri": "https://localhost:8080/"
        },
        "id": "otaKds3LD6WS",
        "outputId": "f514bf96-cfe4-4224-bc44-b67f91a75d90"
      },
      "execution_count": 15,
      "outputs": [
        {
          "output_type": "execute_result",
          "data": {
            "text/plain": [
              "count    1.055000e+03\n",
              "mean     3.532304e+07\n",
              "std      8.707897e+07\n",
              "min      8.690000e+05\n",
              "25%      5.453500e+06\n",
              "50%      1.050000e+07\n",
              "75%      2.708800e+07\n",
              "max      1.200000e+09\n",
              "Name: price, dtype: float64"
            ]
          },
          "metadata": {},
          "execution_count": 15
        }
      ]
    },
    {
      "cell_type": "markdown",
      "source": [
        "Convert the Price column values from pesos to USD."
      ],
      "metadata": {
        "id": "BnHe8YqIntKl"
      }
    },
    {
      "cell_type": "code",
      "source": [
        "drop_na_housing_df['price']=drop_na_housing_df['price'].apply(lambda x : x*0.018)"
      ],
      "metadata": {
        "colab": {
          "base_uri": "https://localhost:8080/"
        },
        "id": "RirWKGi9D-lV",
        "outputId": "7be23570-02e5-42d1-d101-d01c87c2b3fb"
      },
      "execution_count": 16,
      "outputs": [
        {
          "output_type": "stream",
          "name": "stderr",
          "text": [
            "<ipython-input-16-f4635965c98a>:1: SettingWithCopyWarning: \n",
            "A value is trying to be set on a copy of a slice from a DataFrame.\n",
            "Try using .loc[row_indexer,col_indexer] = value instead\n",
            "\n",
            "See the caveats in the documentation: https://pandas.pydata.org/pandas-docs/stable/user_guide/indexing.html#returning-a-view-versus-a-copy\n",
            "  drop_na_housing_df['price']=drop_na_housing_df['price'].apply(lambda x : x*0.018)\n"
          ]
        }
      ]
    },
    {
      "cell_type": "code",
      "source": [
        "drop_na_houses_df = houses_df.dropna()\n",
        "drop_na_houses_df.head()"
      ],
      "metadata": {
        "colab": {
          "base_uri": "https://localhost:8080/",
          "height": 414
        },
        "id": "MyEOA13BGtUy",
        "outputId": "ed689f12-e49a-4f1b-cac6-630fa01e14d6"
      },
      "execution_count": null,
      "outputs": [
        {
          "output_type": "execute_result",
          "data": {
            "text/plain": [
              "                                         Description  \\\n",
              "0  Preselling 2-Storey Townhouses in Village East...   \n",
              "1  Affordable House & Lot with Complete Amenities...   \n",
              "4  Futura Homes Zamboanga | Amber 2BR Townhouse E...   \n",
              "7  5BR 2-Storey House and Lot for Sale in Subic, ...   \n",
              "9  3BR 3-Storey Townhouse for Sale near Alabang i...   \n",
              "\n",
              "                                     Location       Price  Bedrooms  \\\n",
              "0                       Santo Domingo, Cainta   9500000.0       4.0   \n",
              "1                    San Vicente, Santa Maria   4400000.0       3.0   \n",
              "4             Zambowood Rd. Boalan, Zamboanga   3275000.0       2.0   \n",
              "7                   Aningway Sacatihan, Subic   8428000.0       5.0   \n",
              "9  Km. 19 West Service Rd. Cupang, Muntinlupa  28650000.0       3.0   \n",
              "\n",
              "   Bathrooms  Floor_Area  Land_Area   Latitude   Longitude  \n",
              "0        3.0      144.00      136.0  14.582341  121.118044  \n",
              "1        2.0       63.20       80.0  14.807715  121.002402  \n",
              "4        1.0       40.32       78.4   6.948389  122.114889  \n",
              "7        3.0      142.00      121.0  14.913178  120.228242  \n",
              "9        3.0      219.30       90.0  14.427001  121.045278  "
            ],
            "text/html": [
              "\n",
              "  <div id=\"df-33624a29-8ca3-458c-accd-0ff16aeb0255\" class=\"colab-df-container\">\n",
              "    <div>\n",
              "<style scoped>\n",
              "    .dataframe tbody tr th:only-of-type {\n",
              "        vertical-align: middle;\n",
              "    }\n",
              "\n",
              "    .dataframe tbody tr th {\n",
              "        vertical-align: top;\n",
              "    }\n",
              "\n",
              "    .dataframe thead th {\n",
              "        text-align: right;\n",
              "    }\n",
              "</style>\n",
              "<table border=\"1\" class=\"dataframe\">\n",
              "  <thead>\n",
              "    <tr style=\"text-align: right;\">\n",
              "      <th></th>\n",
              "      <th>Description</th>\n",
              "      <th>Location</th>\n",
              "      <th>Price</th>\n",
              "      <th>Bedrooms</th>\n",
              "      <th>Bathrooms</th>\n",
              "      <th>Floor_Area</th>\n",
              "      <th>Land_Area</th>\n",
              "      <th>Latitude</th>\n",
              "      <th>Longitude</th>\n",
              "    </tr>\n",
              "  </thead>\n",
              "  <tbody>\n",
              "    <tr>\n",
              "      <th>0</th>\n",
              "      <td>Preselling 2-Storey Townhouses in Village East...</td>\n",
              "      <td>Santo Domingo, Cainta</td>\n",
              "      <td>9500000.0</td>\n",
              "      <td>4.0</td>\n",
              "      <td>3.0</td>\n",
              "      <td>144.00</td>\n",
              "      <td>136.0</td>\n",
              "      <td>14.582341</td>\n",
              "      <td>121.118044</td>\n",
              "    </tr>\n",
              "    <tr>\n",
              "      <th>1</th>\n",
              "      <td>Affordable House &amp; Lot with Complete Amenities...</td>\n",
              "      <td>San Vicente, Santa Maria</td>\n",
              "      <td>4400000.0</td>\n",
              "      <td>3.0</td>\n",
              "      <td>2.0</td>\n",
              "      <td>63.20</td>\n",
              "      <td>80.0</td>\n",
              "      <td>14.807715</td>\n",
              "      <td>121.002402</td>\n",
              "    </tr>\n",
              "    <tr>\n",
              "      <th>4</th>\n",
              "      <td>Futura Homes Zamboanga | Amber 2BR Townhouse E...</td>\n",
              "      <td>Zambowood Rd. Boalan, Zamboanga</td>\n",
              "      <td>3275000.0</td>\n",
              "      <td>2.0</td>\n",
              "      <td>1.0</td>\n",
              "      <td>40.32</td>\n",
              "      <td>78.4</td>\n",
              "      <td>6.948389</td>\n",
              "      <td>122.114889</td>\n",
              "    </tr>\n",
              "    <tr>\n",
              "      <th>7</th>\n",
              "      <td>5BR 2-Storey House and Lot for Sale in Subic, ...</td>\n",
              "      <td>Aningway Sacatihan, Subic</td>\n",
              "      <td>8428000.0</td>\n",
              "      <td>5.0</td>\n",
              "      <td>3.0</td>\n",
              "      <td>142.00</td>\n",
              "      <td>121.0</td>\n",
              "      <td>14.913178</td>\n",
              "      <td>120.228242</td>\n",
              "    </tr>\n",
              "    <tr>\n",
              "      <th>9</th>\n",
              "      <td>3BR 3-Storey Townhouse for Sale near Alabang i...</td>\n",
              "      <td>Km. 19 West Service Rd. Cupang, Muntinlupa</td>\n",
              "      <td>28650000.0</td>\n",
              "      <td>3.0</td>\n",
              "      <td>3.0</td>\n",
              "      <td>219.30</td>\n",
              "      <td>90.0</td>\n",
              "      <td>14.427001</td>\n",
              "      <td>121.045278</td>\n",
              "    </tr>\n",
              "  </tbody>\n",
              "</table>\n",
              "</div>\n",
              "    <div class=\"colab-df-buttons\">\n",
              "\n",
              "  <div class=\"colab-df-container\">\n",
              "    <button class=\"colab-df-convert\" onclick=\"convertToInteractive('df-33624a29-8ca3-458c-accd-0ff16aeb0255')\"\n",
              "            title=\"Convert this dataframe to an interactive table.\"\n",
              "            style=\"display:none;\">\n",
              "\n",
              "  <svg xmlns=\"http://www.w3.org/2000/svg\" height=\"24px\" viewBox=\"0 -960 960 960\">\n",
              "    <path d=\"M120-120v-720h720v720H120Zm60-500h600v-160H180v160Zm220 220h160v-160H400v160Zm0 220h160v-160H400v160ZM180-400h160v-160H180v160Zm440 0h160v-160H620v160ZM180-180h160v-160H180v160Zm440 0h160v-160H620v160Z\"/>\n",
              "  </svg>\n",
              "    </button>\n",
              "\n",
              "  <style>\n",
              "    .colab-df-container {\n",
              "      display:flex;\n",
              "      gap: 12px;\n",
              "    }\n",
              "\n",
              "    .colab-df-convert {\n",
              "      background-color: #E8F0FE;\n",
              "      border: none;\n",
              "      border-radius: 50%;\n",
              "      cursor: pointer;\n",
              "      display: none;\n",
              "      fill: #1967D2;\n",
              "      height: 32px;\n",
              "      padding: 0 0 0 0;\n",
              "      width: 32px;\n",
              "    }\n",
              "\n",
              "    .colab-df-convert:hover {\n",
              "      background-color: #E2EBFA;\n",
              "      box-shadow: 0px 1px 2px rgba(60, 64, 67, 0.3), 0px 1px 3px 1px rgba(60, 64, 67, 0.15);\n",
              "      fill: #174EA6;\n",
              "    }\n",
              "\n",
              "    .colab-df-buttons div {\n",
              "      margin-bottom: 4px;\n",
              "    }\n",
              "\n",
              "    [theme=dark] .colab-df-convert {\n",
              "      background-color: #3B4455;\n",
              "      fill: #D2E3FC;\n",
              "    }\n",
              "\n",
              "    [theme=dark] .colab-df-convert:hover {\n",
              "      background-color: #434B5C;\n",
              "      box-shadow: 0px 1px 3px 1px rgba(0, 0, 0, 0.15);\n",
              "      filter: drop-shadow(0px 1px 2px rgba(0, 0, 0, 0.3));\n",
              "      fill: #FFFFFF;\n",
              "    }\n",
              "  </style>\n",
              "\n",
              "    <script>\n",
              "      const buttonEl =\n",
              "        document.querySelector('#df-33624a29-8ca3-458c-accd-0ff16aeb0255 button.colab-df-convert');\n",
              "      buttonEl.style.display =\n",
              "        google.colab.kernel.accessAllowed ? 'block' : 'none';\n",
              "\n",
              "      async function convertToInteractive(key) {\n",
              "        const element = document.querySelector('#df-33624a29-8ca3-458c-accd-0ff16aeb0255');\n",
              "        const dataTable =\n",
              "          await google.colab.kernel.invokeFunction('convertToInteractive',\n",
              "                                                    [key], {});\n",
              "        if (!dataTable) return;\n",
              "\n",
              "        const docLinkHtml = 'Like what you see? Visit the ' +\n",
              "          '<a target=\"_blank\" href=https://colab.research.google.com/notebooks/data_table.ipynb>data table notebook</a>'\n",
              "          + ' to learn more about interactive tables.';\n",
              "        element.innerHTML = '';\n",
              "        dataTable['output_type'] = 'display_data';\n",
              "        await google.colab.output.renderOutput(dataTable, element);\n",
              "        const docLink = document.createElement('div');\n",
              "        docLink.innerHTML = docLinkHtml;\n",
              "        element.appendChild(docLink);\n",
              "      }\n",
              "    </script>\n",
              "  </div>\n",
              "\n",
              "\n",
              "<div id=\"df-17da82e4-abe7-40d6-a725-a9f3ad27f9cd\">\n",
              "  <button class=\"colab-df-quickchart\" onclick=\"quickchart('df-17da82e4-abe7-40d6-a725-a9f3ad27f9cd')\"\n",
              "            title=\"Suggest charts\"\n",
              "            style=\"display:none;\">\n",
              "\n",
              "<svg xmlns=\"http://www.w3.org/2000/svg\" height=\"24px\"viewBox=\"0 0 24 24\"\n",
              "     width=\"24px\">\n",
              "    <g>\n",
              "        <path d=\"M19 3H5c-1.1 0-2 .9-2 2v14c0 1.1.9 2 2 2h14c1.1 0 2-.9 2-2V5c0-1.1-.9-2-2-2zM9 17H7v-7h2v7zm4 0h-2V7h2v10zm4 0h-2v-4h2v4z\"/>\n",
              "    </g>\n",
              "</svg>\n",
              "  </button>\n",
              "\n",
              "<style>\n",
              "  .colab-df-quickchart {\n",
              "      --bg-color: #E8F0FE;\n",
              "      --fill-color: #1967D2;\n",
              "      --hover-bg-color: #E2EBFA;\n",
              "      --hover-fill-color: #174EA6;\n",
              "      --disabled-fill-color: #AAA;\n",
              "      --disabled-bg-color: #DDD;\n",
              "  }\n",
              "\n",
              "  [theme=dark] .colab-df-quickchart {\n",
              "      --bg-color: #3B4455;\n",
              "      --fill-color: #D2E3FC;\n",
              "      --hover-bg-color: #434B5C;\n",
              "      --hover-fill-color: #FFFFFF;\n",
              "      --disabled-bg-color: #3B4455;\n",
              "      --disabled-fill-color: #666;\n",
              "  }\n",
              "\n",
              "  .colab-df-quickchart {\n",
              "    background-color: var(--bg-color);\n",
              "    border: none;\n",
              "    border-radius: 50%;\n",
              "    cursor: pointer;\n",
              "    display: none;\n",
              "    fill: var(--fill-color);\n",
              "    height: 32px;\n",
              "    padding: 0;\n",
              "    width: 32px;\n",
              "  }\n",
              "\n",
              "  .colab-df-quickchart:hover {\n",
              "    background-color: var(--hover-bg-color);\n",
              "    box-shadow: 0 1px 2px rgba(60, 64, 67, 0.3), 0 1px 3px 1px rgba(60, 64, 67, 0.15);\n",
              "    fill: var(--button-hover-fill-color);\n",
              "  }\n",
              "\n",
              "  .colab-df-quickchart-complete:disabled,\n",
              "  .colab-df-quickchart-complete:disabled:hover {\n",
              "    background-color: var(--disabled-bg-color);\n",
              "    fill: var(--disabled-fill-color);\n",
              "    box-shadow: none;\n",
              "  }\n",
              "\n",
              "  .colab-df-spinner {\n",
              "    border: 2px solid var(--fill-color);\n",
              "    border-color: transparent;\n",
              "    border-bottom-color: var(--fill-color);\n",
              "    animation:\n",
              "      spin 1s steps(1) infinite;\n",
              "  }\n",
              "\n",
              "  @keyframes spin {\n",
              "    0% {\n",
              "      border-color: transparent;\n",
              "      border-bottom-color: var(--fill-color);\n",
              "      border-left-color: var(--fill-color);\n",
              "    }\n",
              "    20% {\n",
              "      border-color: transparent;\n",
              "      border-left-color: var(--fill-color);\n",
              "      border-top-color: var(--fill-color);\n",
              "    }\n",
              "    30% {\n",
              "      border-color: transparent;\n",
              "      border-left-color: var(--fill-color);\n",
              "      border-top-color: var(--fill-color);\n",
              "      border-right-color: var(--fill-color);\n",
              "    }\n",
              "    40% {\n",
              "      border-color: transparent;\n",
              "      border-right-color: var(--fill-color);\n",
              "      border-top-color: var(--fill-color);\n",
              "    }\n",
              "    60% {\n",
              "      border-color: transparent;\n",
              "      border-right-color: var(--fill-color);\n",
              "    }\n",
              "    80% {\n",
              "      border-color: transparent;\n",
              "      border-right-color: var(--fill-color);\n",
              "      border-bottom-color: var(--fill-color);\n",
              "    }\n",
              "    90% {\n",
              "      border-color: transparent;\n",
              "      border-bottom-color: var(--fill-color);\n",
              "    }\n",
              "  }\n",
              "</style>\n",
              "\n",
              "  <script>\n",
              "    async function quickchart(key) {\n",
              "      const quickchartButtonEl =\n",
              "        document.querySelector('#' + key + ' button');\n",
              "      quickchartButtonEl.disabled = true;  // To prevent multiple clicks.\n",
              "      quickchartButtonEl.classList.add('colab-df-spinner');\n",
              "      try {\n",
              "        const charts = await google.colab.kernel.invokeFunction(\n",
              "            'suggestCharts', [key], {});\n",
              "      } catch (error) {\n",
              "        console.error('Error during call to suggestCharts:', error);\n",
              "      }\n",
              "      quickchartButtonEl.classList.remove('colab-df-spinner');\n",
              "      quickchartButtonEl.classList.add('colab-df-quickchart-complete');\n",
              "    }\n",
              "    (() => {\n",
              "      let quickchartButtonEl =\n",
              "        document.querySelector('#df-17da82e4-abe7-40d6-a725-a9f3ad27f9cd button');\n",
              "      quickchartButtonEl.style.display =\n",
              "        google.colab.kernel.accessAllowed ? 'block' : 'none';\n",
              "    })();\n",
              "  </script>\n",
              "</div>\n",
              "\n",
              "    </div>\n",
              "  </div>\n"
            ],
            "application/vnd.google.colaboratory.intrinsic+json": {
              "type": "dataframe",
              "variable_name": "drop_na_houses_df",
              "summary": "{\n  \"name\": \"drop_na_houses_df\",\n  \"rows\": 1055,\n  \"fields\": [\n    {\n      \"column\": \"Description\",\n      \"properties\": {\n        \"dtype\": \"string\",\n        \"num_unique_values\": 960,\n        \"samples\": [\n          \"2  Bedroom Home with Additions, Strong Water, Near Amenities in SN Mateo Rizal\",\n          \"For Sale: Brand New Modern Luxury 5 BR Home with Pool in Ayala Alabang\",\n          \"Brand New Tagaytay Midlands House Overlooking Taal\"\n        ],\n        \"semantic_type\": \"\",\n        \"description\": \"\"\n      }\n    },\n    {\n      \"column\": \"Location\",\n      \"properties\": {\n        \"dtype\": \"category\",\n        \"num_unique_values\": 378,\n        \"samples\": [\n          \"Manuyo Dos, Las Pinas\",\n          \"Santo Nino, San Mateo\",\n          \"1 Tandang Sora, Quezon City\"\n        ],\n        \"semantic_type\": \"\",\n        \"description\": \"\"\n      }\n    },\n    {\n      \"column\": \"Price\",\n      \"properties\": {\n        \"dtype\": \"number\",\n        \"std\": 87078973.52176975,\n        \"min\": 869000.0,\n        \"max\": 1200000000.0,\n        \"num_unique_values\": 617,\n        \"samples\": [\n          5282600.0,\n          7257800.0,\n          28776000.0\n        ],\n        \"semantic_type\": \"\",\n        \"description\": \"\"\n      }\n    },\n    {\n      \"column\": \"Bedrooms\",\n      \"properties\": {\n        \"dtype\": \"number\",\n        \"std\": 1.2653404127915664,\n        \"min\": 1.0,\n        \"max\": 13.0,\n        \"num_unique_values\": 12,\n        \"samples\": [\n          10.0,\n          13.0,\n          4.0\n        ],\n        \"semantic_type\": \"\",\n        \"description\": \"\"\n      }\n    },\n    {\n      \"column\": \"Bathrooms\",\n      \"properties\": {\n        \"dtype\": \"number\",\n        \"std\": 1.9270710638089916,\n        \"min\": 1.0,\n        \"max\": 43.0,\n        \"num_unique_values\": 16,\n        \"samples\": [\n          3.0,\n          2.0,\n          6.0\n        ],\n        \"semantic_type\": \"\",\n        \"description\": \"\"\n      }\n    },\n    {\n      \"column\": \"Floor_Area\",\n      \"properties\": {\n        \"dtype\": \"number\",\n        \"std\": 230.84297288821315,\n        \"min\": 26.0,\n        \"max\": 1600.0,\n        \"num_unique_values\": 307,\n        \"samples\": [\n          128.0,\n          260.0,\n          135.0\n        ],\n        \"semantic_type\": \"\",\n        \"description\": \"\"\n      }\n    },\n    {\n      \"column\": \"Land_Area\",\n      \"properties\": {\n        \"dtype\": \"number\",\n        \"std\": 573.624437849946,\n        \"min\": 27.0,\n        \"max\": 10000.0,\n        \"num_unique_values\": 325,\n        \"samples\": [\n          899.0,\n          375.0,\n          3267.0\n        ],\n        \"semantic_type\": \"\",\n        \"description\": \"\"\n      }\n    },\n    {\n      \"column\": \"Latitude\",\n      \"properties\": {\n        \"dtype\": \"number\",\n        \"std\": 1.7353737370536948,\n        \"min\": 6.1280792,\n        \"max\": 16.66243945,\n        \"num_unique_values\": 379,\n        \"samples\": [\n          14.4236141,\n          9.6352488,\n          14.6292389\n        ],\n        \"semantic_type\": \"\",\n        \"description\": \"\"\n      }\n    },\n    {\n      \"column\": \"Longitude\",\n      \"properties\": {\n        \"dtype\": \"number\",\n        \"std\": 0.9866264915818638,\n        \"min\": 120.2282421,\n        \"max\": 125.7396788,\n        \"num_unique_values\": 379,\n        \"samples\": [\n          121.0298739,\n          123.8487402,\n          121.0458642\n        ],\n        \"semantic_type\": \"\",\n        \"description\": \"\"\n      }\n    }\n  ]\n}"
            }
          },
          "metadata": {},
          "execution_count": 18
        }
      ]
    },
    {
      "cell_type": "code",
      "source": [
        "drop_na_housing_df['price'].describe()"
      ],
      "metadata": {
        "colab": {
          "base_uri": "https://localhost:8080/"
        },
        "id": "GZQPqIOYn6rn",
        "outputId": "5029d443-a519-46f8-c91e-8008d4f8f6c4"
      },
      "execution_count": 17,
      "outputs": [
        {
          "output_type": "execute_result",
          "data": {
            "text/plain": [
              "count    1.055000e+03\n",
              "mean     6.358147e+05\n",
              "std      1.567422e+06\n",
              "min      1.564200e+04\n",
              "25%      9.816300e+04\n",
              "50%      1.890000e+05\n",
              "75%      4.875840e+05\n",
              "max      2.160000e+07\n",
              "Name: price, dtype: float64"
            ]
          },
          "metadata": {},
          "execution_count": 17
        }
      ]
    },
    {
      "cell_type": "markdown",
      "source": [
        "Histogram of Real Estate Prices"
      ],
      "metadata": {
        "id": "fMKtaLBen-dF"
      }
    },
    {
      "cell_type": "code",
      "source": [
        "drop_na_housing_df[\"price\"].plot.hist(bins=25, edgecolor = \"k\", alpha=0.7)\n",
        "plt.title(\"Histogram of Real Estate Prices in USD\")\n",
        "plt.axvline(drop_na_housing_df[\"price\"].mean(), color = \"yellow\", linestyle = \"dashed\", linewidth = 1)\n",
        "plt.axvline(drop_na_housing_df['price'].median(), color = 'red', linestyle = \"dashed\", linewidth = 1)\n",
        "plt.xlabel(\"Price in USD\")\n",
        "plt.show()"
      ],
      "metadata": {
        "colab": {
          "base_uri": "https://localhost:8080/",
          "height": 472
        },
        "id": "4f12ZIDhU8uh",
        "outputId": "c41bba8d-5950-4790-a633-61836d94f1ee"
      },
      "execution_count": 20,
      "outputs": [
        {
          "output_type": "display_data",
          "data": {
            "text/plain": [
              "<Figure size 640x480 with 1 Axes>"
            ],
            "image/png": "[encoded data removed]"
          },
          "metadata": {}
        }
      ]
    },
    {
      "cell_type": "markdown",
      "source": [
        "Load csv file from local computer."
      ],
      "metadata": {
        "id": "srkz_VtfoSoS"
      }
    },
    {
      "cell_type": "markdown",
      "source": [
        "Scatter Plot of Floor Area as a Predictor of Price"
      ],
      "metadata": {
        "id": "DD2jYpA1odyz"
      }
    },
    {
      "cell_type": "code",
      "source": [
        "import matplotlib.pyplot as plt\n",
        "sns.lmplot(x=\"floor_area\", y=\"price\", data=drop_na_housing_df)\n",
        "plt.title(\"Scatter Plot of Floor Area as a Predictor of Price\")\n",
        "plt.show()\n"
      ],
      "metadata": {
        "colab": {
          "base_uri": "https://localhost:8080/",
          "height": 529
        },
        "id": "veZRXjaaqniK",
        "outputId": "5ae744e1-91b6-4a71-ae36-b803599a3f4d"
      },
      "execution_count": 35,
      "outputs": [
        {
          "output_type": "display_data",
          "data": {
            "text/plain": [
              "<Figure size 500x500 with 1 Axes>"
            ],
            "image/png": "[encoded data removed]"
          },
          "metadata": {}
        }
      ]
    },
    {
      "cell_type": "code",
      "source": [
        "import pandas as pd\n",
        "import numpy as np\n",
        "import matplotlib.pyplot as plt\n",
        "\n",
        "# Calculate the correlation coefficient\n",
        "corr = drop_na_housing_df['price'].corr(drop_na_housing_df['floor_area'])\n",
        "\n",
        "# Print the correlation coefficient\n",
        "print('Correlation coefficient:', corr)\n",
        "\n"
      ],
      "metadata": {
        "colab": {
          "base_uri": "https://localhost:8080/"
        },
        "id": "u5jKY4soqld5",
        "outputId": "f4387877-4734-40b1-c7ef-c372dc00d01c"
      },
      "execution_count": 39,
      "outputs": [
        {
          "output_type": "stream",
          "name": "stdout",
          "text": [
            "Correlation coefficient: 0.7275725027984233\n"
          ]
        }
      ]
    },
    {
      "cell_type": "markdown",
      "source": [
        "There appears to be a positive correlation prices increase with increase in floor area"
      ],
      "metadata": {
        "id": "Ak9vOlYNsCsc"
      }
    },
    {
      "cell_type": "code",
      "source": [
        "import matplotlib.pyplot as plt\n",
        "exchange_rate = 0.018\n",
        "drop_na_housing_df['Price_USD'] = drop_na_housing_df['price'] #create new df \"Price_USD\"\n",
        "\n",
        "# create plot\n",
        "drop_na_housing_df.groupby('bedrooms')['Price_USD'].mean().plot(kind='bar')\n",
        "\n",
        "# Set title, labels, and display the plot\n",
        "plt.title('Bedrooms vs Price (USD)')\n",
        "plt.xlabel('Number of Bedrooms')\n",
        "plt.ylabel('Average Price (USD)')\n",
        "plt.show()"
      ],
      "metadata": {
        "colab": {
          "base_uri": "https://localhost:8080/",
          "height": 612
        },
        "id": "O0qN100fsAvw",
        "outputId": "f95e479a-d724-4a23-f1a6-e432fde7e3a5"
      },
      "execution_count": 40,
      "outputs": [
        {
          "output_type": "stream",
          "name": "stderr",
          "text": [
            "<ipython-input-40-3e641dc3299a>:3: SettingWithCopyWarning: \n",
            "A value is trying to be set on a copy of a slice from a DataFrame.\n",
            "Try using .loc[row_indexer,col_indexer] = value instead\n",
            "\n",
            "See the caveats in the documentation: https://pandas.pydata.org/pandas-docs/stable/user_guide/indexing.html#returning-a-view-versus-a-copy\n",
            "  drop_na_housing_df['Price_USD'] = drop_na_housing_df['price'] #create new df \"Price_USD\"\n"
          ]
        },
        {
          "output_type": "display_data",
          "data": {
            "text/plain": [
              "<Figure size 640x480 with 1 Axes>"
            ],
            "image/png": "[encoded data removed]"
          },
          "metadata": {}
        }
      ]
    },
    {
      "source": [
        "import seaborn as sns\n",
        "sns.boxplot(x=\"bedrooms\", y=\"price\", showfliers = True, data=drop_na_housing_df)  # Replace 'housing' with your DataFrame name\n",
        "plt.show()"
      ],
      "cell_type": "code",
      "execution_count": 41,
      "outputs": [
        {
          "output_type": "display_data",
          "data": {
            "text/plain": [
              "<Figure size 640x480 with 1 Axes>"
            ],
            "image/png": "[encoded data removed]"
          },
          "metadata": {}
        }
      ],
      "metadata": {
        "colab": {
          "base_uri": "https://localhost:8080/",
          "height": 465
        },
        "id": "XcGZQ-K3Q3Vp",
        "outputId": "5e7f429f-3ed5-4935-a745-2b950b322123"
      }
    },
    {
      "cell_type": "markdown",
      "source": [
        "Additional Correlations"
      ],
      "metadata": {
        "id": "5eDgEajXsP9d"
      }
    },
    {
      "cell_type": "code",
      "source": [
        "drop_na_housing_df['price'].corr(drop_na_housing_df['bathrooms'])"
      ],
      "metadata": {
        "colab": {
          "base_uri": "https://localhost:8080/"
        },
        "id": "QVwKUQzjsQv8",
        "outputId": "5c50653c-6afe-4c6a-fb22-bde3abcb994a"
      },
      "execution_count": 42,
      "outputs": [
        {
          "output_type": "execute_result",
          "data": {
            "text/plain": [
              "0.35784803574145146"
            ]
          },
          "metadata": {},
          "execution_count": 42
        }
      ]
    },
    {
      "cell_type": "code",
      "source": [
        "drop_na_housing_df['price'].corr(drop_na_housing_df['bedrooms'])"
      ],
      "metadata": {
        "colab": {
          "base_uri": "https://localhost:8080/"
        },
        "id": "7ZUxPbW1sU-G",
        "outputId": "075f911e-4d69-4b4d-aa20-a8c8bbf73c06"
      },
      "execution_count": 43,
      "outputs": [
        {
          "output_type": "execute_result",
          "data": {
            "text/plain": [
              "0.3707567629554745"
            ]
          },
          "metadata": {},
          "execution_count": 43
        }
      ]
    },
    {
      "cell_type": "code",
      "source": [
        "original_sample = drop_na_housing_df['price'].sample(frac=0.1, replace = True, random_state=123)"
      ],
      "metadata": {
        "id": "0hqClu6EsYH4"
      },
      "execution_count": 44,
      "outputs": []
    },
    {
      "cell_type": "markdown",
      "source": [
        "Bootstrapping for median_boot_samples"
      ],
      "metadata": {
        "id": "f4SZfpTRsbAL"
      }
    },
    {
      "cell_type": "code",
      "source": [
        "median_boot_samples =[]\n",
        "for i in range(1000):\n",
        "  boot_sample = np.random.choice(original_sample, 100)\n",
        "  median_boot_samples.append(np.median(boot_sample))\n",
        "np.mean(median_boot_samples)"
      ],
      "metadata": {
        "colab": {
          "base_uri": "https://localhost:8080/"
        },
        "id": "d9NquAcjsahd",
        "outputId": "a32582c8-208e-4e0d-d3bf-78e874bda78b"
      },
      "execution_count": 45,
      "outputs": [
        {
          "output_type": "execute_result",
          "data": {
            "text/plain": [
              "179231.259132"
            ]
          },
          "metadata": {},
          "execution_count": 45
        }
      ]
    },
    {
      "cell_type": "markdown",
      "source": [
        "Creating Confidence Intervals from the Bootstrapping Samples"
      ],
      "metadata": {
        "id": "u-_VZ3KZsgTf"
      }
    },
    {
      "cell_type": "code",
      "source": [
        "conf_int = np.percentile(median_boot_samples, [2.5, 97.5])\n",
        "conf_int"
      ],
      "metadata": {
        "colab": {
          "base_uri": "https://localhost:8080/"
        },
        "id": "cBL5ytSCsiUT",
        "outputId": "d466e3f0-1cf0-44c7-ab82-d3354f3f154e"
      },
      "execution_count": 46,
      "outputs": [
        {
          "output_type": "execute_result",
          "data": {
            "text/plain": [
              "array([140760., 288000.])"
            ]
          },
          "metadata": {},
          "execution_count": 46
        }
      ]
    },
    {
      "cell_type": "code",
      "source": [
        "import seaborn as sns\n",
        "sns.kdeplot(median_boot_samples)\n",
        "for endpoint in conf_int:\n",
        "  plt.axvline(endpoint, color = 'red')"
      ],
      "metadata": {
        "colab": {
          "base_uri": "https://localhost:8080/",
          "height": 445
        },
        "id": "FM3Z0ZzxsksW",
        "outputId": "10177b6e-b465-488e-d24c-e675752070bd"
      },
      "execution_count": 47,
      "outputs": [
        {
          "output_type": "display_data",
          "data": {
            "text/plain": [
              "<Figure size 640x480 with 1 Axes>"
            ],
            "image/png": "[encoded data removed]"
          },
          "metadata": {}
        }
      ]
    },
    {
      "cell_type": "markdown",
      "source": [],
      "metadata": {
        "id": "-GalN4DVsnod"
      }
    },
    {
      "cell_type": "markdown",
      "source": [
        "Bellow Sayaka's script sample code"
      ],
      "metadata": {
        "id": "EA4iwvN3szXe"
      }
    },
    {
      "cell_type": "code",
      "source": [
        "import matplotlib.pyplot as plt\n",
        "drop_na_housing_df.groupby('bedrooms')['price'].mean().plot.bar()\n",
        "plt.title('Bedroom vs Price')\n",
        "plt.xlabel('Number of Bedrooms')\n",
        "plt.ylabel('Average Price')\n",
        "plt.show()\n"
      ],
      "metadata": {
        "colab": {
          "base_uri": "https://localhost:8080/",
          "height": 488
        },
        "id": "Yf35hw-ZtBhl",
        "outputId": "5a604c09-6508-4342-a177-7dcf6a24d23d"
      },
      "execution_count": 52,
      "outputs": [
        {
          "output_type": "display_data",
          "data": {
            "text/plain": [
              "<Figure size 640x480 with 1 Axes>"
            ],
            "image/png": "[encoded data removed]"
          },
          "metadata": {}
        }
      ]
    },
    {
      "cell_type": "code",
      "source": [
        "# prompt: scatter plot with drop_na_housing_df , Land_Area vs Price\n",
        "\n",
        "import matplotlib.pyplot as plt\n",
        "sns.lmplot(x=\"land_area\", y=\"price\", data=drop_na_housing_df)\n",
        "plt.title(\"Scatter Plot of Land Area as a Predictor of Price\")\n",
        "plt.show()\n"
      ],
      "metadata": {
        "colab": {
          "base_uri": "https://localhost:8080/",
          "height": 529
        },
        "id": "OGeZMV8jtgCL",
        "outputId": "3ab61a8f-64f0-4c26-ddcf-6e26fdcdee22"
      },
      "execution_count": 55,
      "outputs": [
        {
          "output_type": "display_data",
          "data": {
            "text/plain": [
              "<Figure size 500x500 with 1 Axes>"
            ],
            "image/png": "[encoded data removed]"
          },
          "metadata": {}
        }
      ]
    },
    {
      "cell_type": "markdown",
      "source": [],
      "metadata": {
        "id": "wTFszTtpSSV3"
      }
    }
  ]
}